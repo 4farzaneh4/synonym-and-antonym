{
  "nbformat": 4,
  "nbformat_minor": 0,
  "metadata": {
    "colab": {
      "provenance": [],
      "authorship_tag": "ABX9TyPQc2Kks8h4ytRr4Um/k/EW",
      "include_colab_link": true
    },
    "kernelspec": {
      "name": "python3",
      "display_name": "Python 3"
    },
    "language_info": {
      "name": "python"
    }
  },
  "cells": [
    {
      "cell_type": "markdown",
      "metadata": {
        "id": "view-in-github",
        "colab_type": "text"
      },
      "source": [
        "<a href=\"https://colab.research.google.com/github/4farzaneh4/synonym-and-antonym/blob/main/12.ipynb\" target=\"_parent\"><img src=\"https://colab.research.google.com/assets/colab-badge.svg\" alt=\"Open In Colab\"/></a>"
      ]
    },
    {
      "cell_type": "code",
      "execution_count": 39,
      "metadata": {
        "colab": {
          "base_uri": "https://localhost:8080/"
        },
        "id": "KiSmwXORzdA8",
        "outputId": "e7331032-00e5-4563-f3da-27fd47eea699"
      },
      "outputs": [
        {
          "output_type": "stream",
          "name": "stderr",
          "text": [
            "[nltk_data] Downloading package wordnet to /root/nltk_data...\n",
            "[nltk_data]   Package wordnet is already up-to-date!\n"
          ]
        },
        {
          "output_type": "execute_result",
          "data": {
            "text/plain": [
              "True"
            ]
          },
          "metadata": {},
          "execution_count": 39
        }
      ],
      "source": [
        "from nltk.corpus import wordnet\n",
        "import nltk\n",
        "nltk.download('wordnet')"
      ]
    },
    {
      "cell_type": "code",
      "source": [
        "synonyms=[]\n",
        "antonyms=[]"
      ],
      "metadata": {
        "id": "084LfxcJ0AWc"
      },
      "execution_count": 40,
      "outputs": []
    },
    {
      "cell_type": "code",
      "source": [
        "for s in wordnet.synsets('courageous'):\n",
        "  for l in s.lemmas():\n",
        "    synonyms.append(l.name())\n",
        "    if l.antonyms():\n",
        "      antonyms.append(l.antonyms()[0].name) and antonyms.append(l.antonyms()[1].name)"
      ],
      "metadata": {
        "id": "APBLzWWB0O_1"
      },
      "execution_count": 41,
      "outputs": []
    },
    {
      "cell_type": "code",
      "source": [
        "print('synonyms of courageous= ',set(synonyms))"
      ],
      "metadata": {
        "colab": {
          "base_uri": "https://localhost:8080/"
        },
        "id": "a6STxdyu1rEy",
        "outputId": "fc621e09-5b0f-455e-d6d5-b5efb34d475d"
      },
      "execution_count": 42,
      "outputs": [
        {
          "output_type": "stream",
          "name": "stdout",
          "text": [
            "synonyms of courageous=  {'courageous', 'brave'}\n"
          ]
        }
      ]
    },
    {
      "cell_type": "code",
      "source": [
        "print('antonyms of courageous= ',set(antonyms))"
      ],
      "metadata": {
        "colab": {
          "base_uri": "https://localhost:8080/"
        },
        "id": "4tN_Tr92191P",
        "outputId": "05b87a1c-40b5-47bf-9fb8-d0d9f5513a86"
      },
      "execution_count": 43,
      "outputs": [
        {
          "output_type": "stream",
          "name": "stdout",
          "text": [
            "antonyms of courageous=  {<bound method Lemma.name of Lemma('cowardly.a.01.cowardly')>}\n"
          ]
        }
      ]
    },
    {
      "cell_type": "code",
      "source": [],
      "metadata": {
        "id": "2ojRoEV32T44"
      },
      "execution_count": null,
      "outputs": []
    }
  ]
}